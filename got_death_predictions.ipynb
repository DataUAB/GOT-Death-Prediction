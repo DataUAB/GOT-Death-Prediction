{
 "cells": [
  {
   "cell_type": "code",
   "execution_count": 1,
   "metadata": {},
   "outputs": [],
   "source": [
    "import numpy as np\n",
    "import pandas as pd\n",
    "import seaborn as sns\n",
    "import matplotlib.pyplot as plt\n",
    "\n",
    "from sklearn.linear_model import LogisticRegression #logistic regression\n",
    "from sklearn import svm #support vector Machine\n",
    "from sklearn.ensemble import RandomForestClassifier #Random Forest\n",
    "from sklearn.neighbors import KNeighborsClassifier #KNN\n",
    "from sklearn.tree import DecisionTreeClassifier #Decision Tree\n",
    "\n",
    "from sklearn.model_selection import KFold #for K-fold cross validation\n",
    "from sklearn.model_selection import cross_val_score #score evaluation\n",
    "from sklearn.model_selection import cross_val_predict #prediction\n",
    "\n",
    "from sklearn.preprocessing import MinMaxScaler # data scaler\n",
    "\n",
    "from sklearn.model_selection import GridSearchCV # for performing grid-search\n"
   ]
  },
  {
   "cell_type": "code",
   "execution_count": 2,
   "metadata": {},
   "outputs": [],
   "source": [
    "# Load our dataset\n",
    "df = pd.read_csv(\"data/character-predictions.csv\")"
   ]
  },
  {
   "cell_type": "code",
   "execution_count": 3,
   "metadata": {},
   "outputs": [
    {
     "data": {
      "text/html": [
       "<div>\n",
       "<style scoped>\n",
       "    .dataframe tbody tr th:only-of-type {\n",
       "        vertical-align: middle;\n",
       "    }\n",
       "\n",
       "    .dataframe tbody tr th {\n",
       "        vertical-align: top;\n",
       "    }\n",
       "\n",
       "    .dataframe thead th {\n",
       "        text-align: right;\n",
       "    }\n",
       "</style>\n",
       "<table border=\"1\" class=\"dataframe\">\n",
       "  <thead>\n",
       "    <tr style=\"text-align: right;\">\n",
       "      <th></th>\n",
       "      <th>S.No</th>\n",
       "      <th>actual</th>\n",
       "      <th>pred</th>\n",
       "      <th>alive</th>\n",
       "      <th>plod</th>\n",
       "      <th>name</th>\n",
       "      <th>title</th>\n",
       "      <th>male</th>\n",
       "      <th>culture</th>\n",
       "      <th>dateOfBirth</th>\n",
       "      <th>...</th>\n",
       "      <th>isAliveHeir</th>\n",
       "      <th>isAliveSpouse</th>\n",
       "      <th>isMarried</th>\n",
       "      <th>isNoble</th>\n",
       "      <th>age</th>\n",
       "      <th>numDeadRelations</th>\n",
       "      <th>boolDeadRelations</th>\n",
       "      <th>isPopular</th>\n",
       "      <th>popularity</th>\n",
       "      <th>isAlive</th>\n",
       "    </tr>\n",
       "  </thead>\n",
       "  <tbody>\n",
       "    <tr>\n",
       "      <th>0</th>\n",
       "      <td>1</td>\n",
       "      <td>0</td>\n",
       "      <td>0</td>\n",
       "      <td>0.054</td>\n",
       "      <td>0.946</td>\n",
       "      <td>Viserys II Targaryen</td>\n",
       "      <td>NaN</td>\n",
       "      <td>1</td>\n",
       "      <td>NaN</td>\n",
       "      <td>NaN</td>\n",
       "      <td>...</td>\n",
       "      <td>0.0</td>\n",
       "      <td>NaN</td>\n",
       "      <td>0</td>\n",
       "      <td>0</td>\n",
       "      <td>NaN</td>\n",
       "      <td>11</td>\n",
       "      <td>1</td>\n",
       "      <td>1</td>\n",
       "      <td>0.605351</td>\n",
       "      <td>0</td>\n",
       "    </tr>\n",
       "    <tr>\n",
       "      <th>1</th>\n",
       "      <td>2</td>\n",
       "      <td>1</td>\n",
       "      <td>0</td>\n",
       "      <td>0.387</td>\n",
       "      <td>0.613</td>\n",
       "      <td>Walder Frey</td>\n",
       "      <td>Lord of the Crossing</td>\n",
       "      <td>1</td>\n",
       "      <td>Rivermen</td>\n",
       "      <td>208.0</td>\n",
       "      <td>...</td>\n",
       "      <td>NaN</td>\n",
       "      <td>1.0</td>\n",
       "      <td>1</td>\n",
       "      <td>1</td>\n",
       "      <td>97.0</td>\n",
       "      <td>1</td>\n",
       "      <td>1</td>\n",
       "      <td>1</td>\n",
       "      <td>0.896321</td>\n",
       "      <td>1</td>\n",
       "    </tr>\n",
       "    <tr>\n",
       "      <th>2</th>\n",
       "      <td>3</td>\n",
       "      <td>1</td>\n",
       "      <td>0</td>\n",
       "      <td>0.493</td>\n",
       "      <td>0.507</td>\n",
       "      <td>Addison Hill</td>\n",
       "      <td>Ser</td>\n",
       "      <td>1</td>\n",
       "      <td>NaN</td>\n",
       "      <td>NaN</td>\n",
       "      <td>...</td>\n",
       "      <td>NaN</td>\n",
       "      <td>NaN</td>\n",
       "      <td>0</td>\n",
       "      <td>1</td>\n",
       "      <td>NaN</td>\n",
       "      <td>0</td>\n",
       "      <td>0</td>\n",
       "      <td>0</td>\n",
       "      <td>0.267559</td>\n",
       "      <td>1</td>\n",
       "    </tr>\n",
       "    <tr>\n",
       "      <th>3</th>\n",
       "      <td>4</td>\n",
       "      <td>0</td>\n",
       "      <td>0</td>\n",
       "      <td>0.076</td>\n",
       "      <td>0.924</td>\n",
       "      <td>Aemma Arryn</td>\n",
       "      <td>Queen</td>\n",
       "      <td>0</td>\n",
       "      <td>NaN</td>\n",
       "      <td>82.0</td>\n",
       "      <td>...</td>\n",
       "      <td>NaN</td>\n",
       "      <td>0.0</td>\n",
       "      <td>1</td>\n",
       "      <td>1</td>\n",
       "      <td>23.0</td>\n",
       "      <td>0</td>\n",
       "      <td>0</td>\n",
       "      <td>0</td>\n",
       "      <td>0.183946</td>\n",
       "      <td>0</td>\n",
       "    </tr>\n",
       "    <tr>\n",
       "      <th>4</th>\n",
       "      <td>5</td>\n",
       "      <td>1</td>\n",
       "      <td>1</td>\n",
       "      <td>0.617</td>\n",
       "      <td>0.383</td>\n",
       "      <td>Sylva Santagar</td>\n",
       "      <td>Greenstone</td>\n",
       "      <td>0</td>\n",
       "      <td>Dornish</td>\n",
       "      <td>276.0</td>\n",
       "      <td>...</td>\n",
       "      <td>NaN</td>\n",
       "      <td>1.0</td>\n",
       "      <td>1</td>\n",
       "      <td>1</td>\n",
       "      <td>29.0</td>\n",
       "      <td>0</td>\n",
       "      <td>0</td>\n",
       "      <td>0</td>\n",
       "      <td>0.043478</td>\n",
       "      <td>1</td>\n",
       "    </tr>\n",
       "  </tbody>\n",
       "</table>\n",
       "<p>5 rows × 33 columns</p>\n",
       "</div>"
      ],
      "text/plain": [
       "   S.No  actual  pred  alive   plod                  name  \\\n",
       "0     1       0     0  0.054  0.946  Viserys II Targaryen   \n",
       "1     2       1     0  0.387  0.613           Walder Frey   \n",
       "2     3       1     0  0.493  0.507          Addison Hill   \n",
       "3     4       0     0  0.076  0.924           Aemma Arryn   \n",
       "4     5       1     1  0.617  0.383        Sylva Santagar   \n",
       "\n",
       "                  title  male   culture  dateOfBirth   ...     isAliveHeir  \\\n",
       "0                   NaN     1       NaN          NaN   ...             0.0   \n",
       "1  Lord of the Crossing     1  Rivermen        208.0   ...             NaN   \n",
       "2                   Ser     1       NaN          NaN   ...             NaN   \n",
       "3                 Queen     0       NaN         82.0   ...             NaN   \n",
       "4            Greenstone     0   Dornish        276.0   ...             NaN   \n",
       "\n",
       "  isAliveSpouse isMarried isNoble   age numDeadRelations  boolDeadRelations  \\\n",
       "0           NaN         0       0   NaN               11                  1   \n",
       "1           1.0         1       1  97.0                1                  1   \n",
       "2           NaN         0       1   NaN                0                  0   \n",
       "3           0.0         1       1  23.0                0                  0   \n",
       "4           1.0         1       1  29.0                0                  0   \n",
       "\n",
       "   isPopular  popularity  isAlive  \n",
       "0          1    0.605351        0  \n",
       "1          1    0.896321        1  \n",
       "2          0    0.267559        1  \n",
       "3          0    0.183946        0  \n",
       "4          0    0.043478        1  \n",
       "\n",
       "[5 rows x 33 columns]"
      ]
     },
     "execution_count": 3,
     "metadata": {},
     "output_type": "execute_result"
    }
   ],
   "source": [
    "# Show first 5 rows\n",
    "df.head(5)"
   ]
  },
  {
   "cell_type": "code",
   "execution_count": 4,
   "metadata": {
    "collapsed": true
   },
   "outputs": [
    {
     "data": {
      "text/plain": [
       "S.No                    0\n",
       "actual                  0\n",
       "pred                    0\n",
       "alive                   0\n",
       "plod                    0\n",
       "name                    0\n",
       "title                1008\n",
       "male                    0\n",
       "culture              1269\n",
       "dateOfBirth          1513\n",
       "DateoFdeath          1502\n",
       "mother               1925\n",
       "father               1920\n",
       "heir                 1923\n",
       "house                 427\n",
       "spouse               1670\n",
       "book1                   0\n",
       "book2                   0\n",
       "book3                   0\n",
       "book4                   0\n",
       "book5                   0\n",
       "isAliveMother        1925\n",
       "isAliveFather        1920\n",
       "isAliveHeir          1923\n",
       "isAliveSpouse        1670\n",
       "isMarried               0\n",
       "isNoble                 0\n",
       "age                  1513\n",
       "numDeadRelations        0\n",
       "boolDeadRelations       0\n",
       "isPopular               0\n",
       "popularity              0\n",
       "isAlive                 0\n",
       "dtype: int64"
      ]
     },
     "execution_count": 4,
     "metadata": {},
     "output_type": "execute_result"
    }
   ],
   "source": [
    "# Lots of Nans\n",
    "df.isna().sum()"
   ]
  },
  {
   "cell_type": "code",
   "execution_count": 5,
   "metadata": {},
   "outputs": [
    {
     "name": "stdout",
     "output_type": "stream",
     "text": [
      "-1293.5635103926097\n",
      "Doreah\n",
      "Rhaego\n"
     ]
    }
   ],
   "source": [
    "# weird mean why?\n",
    "print(df[\"age\"].mean())\n",
    "# Negative Age\n",
    "df[\"age\"][df[\"age\"] < 0]\n",
    "# There are mistakes in the data Doreah is actually 25 and Rhaego was never even born\n",
    "print(df[\"name\"][1684]) \n",
    "print(df[\"name\"][1868])"
   ]
  },
  {
   "cell_type": "code",
   "execution_count": 6,
   "metadata": {},
   "outputs": [],
   "source": [
    "# Replace negative ages\n",
    "df.loc[1684, \"age\"] = 24.0\n",
    "df.loc[1868, \"age\"] = 0.0"
   ]
  },
  {
   "cell_type": "code",
   "execution_count": 7,
   "metadata": {},
   "outputs": [],
   "source": [
    "# Drop columns  # drop popularity\n",
    "drop = [\"S.No\", \"pred\", \"alive\", \"plod\", \"name\", \"isAlive\", \"DateoFdeath\" ,\"dateOfBirth\", \n",
    "        \"popularity\", \"numDeadRelations\"]\n",
    "df.drop(drop, inplace=True, axis=1)"
   ]
  },
  {
   "cell_type": "code",
   "execution_count": 8,
   "metadata": {},
   "outputs": [
    {
     "data": {
      "text/plain": [
       "36.70207852193995"
      ]
     },
     "execution_count": 8,
     "metadata": {},
     "output_type": "execute_result"
    }
   ],
   "source": [
    "df[\"age\"].mean()"
   ]
  },
  {
   "cell_type": "code",
   "execution_count": 9,
   "metadata": {},
   "outputs": [],
   "source": [
    "# Fill the nans we can\n",
    "df[\"age\"].fillna(df[\"age\"].mean(), inplace=True)\n",
    "df[\"culture\"].fillna(\"\", inplace=True)\n",
    "\n",
    "# Some nans values are nan because we dont know them so fill them with -1\n",
    "df.fillna(value=-1, inplace=True)"
   ]
  },
  {
   "cell_type": "code",
   "execution_count": 10,
   "metadata": {
    "collapsed": true
   },
   "outputs": [
    {
     "data": {
      "text/plain": [
       "{'',\n",
       " 'Andal',\n",
       " 'Andals',\n",
       " 'Asshai',\n",
       " \"Asshai'i\",\n",
       " 'Astapor',\n",
       " 'Astapori',\n",
       " 'Braavos',\n",
       " 'Braavosi',\n",
       " 'Crannogmen',\n",
       " 'Dorne',\n",
       " 'Dornish',\n",
       " 'Dornishmen',\n",
       " 'Dothraki',\n",
       " 'First Men',\n",
       " 'Free Folk',\n",
       " 'Free folk',\n",
       " 'Ghiscari',\n",
       " 'Ghiscaricari',\n",
       " 'Ibbenese',\n",
       " 'Ironborn',\n",
       " 'Ironmen',\n",
       " 'Lhazareen',\n",
       " 'Lhazarene',\n",
       " 'Lysene',\n",
       " 'Lyseni',\n",
       " 'Meereen',\n",
       " 'Meereenese',\n",
       " 'Myrish',\n",
       " 'Naathi',\n",
       " 'Northern mountain clans',\n",
       " 'Northmen',\n",
       " 'Norvos',\n",
       " 'Norvoshi',\n",
       " 'Pentoshi',\n",
       " 'Qarth',\n",
       " 'Qartheen',\n",
       " 'Qohor',\n",
       " 'Reach',\n",
       " 'Reachmen',\n",
       " 'Rhoynar',\n",
       " 'Riverlands',\n",
       " 'Rivermen',\n",
       " 'Sistermen',\n",
       " 'Stormlander',\n",
       " 'Stormlands',\n",
       " 'Summer Islander',\n",
       " 'Summer Islands',\n",
       " 'Summer Isles',\n",
       " 'The Reach',\n",
       " 'Tyroshi',\n",
       " 'Vale',\n",
       " 'Vale mountain clans',\n",
       " 'Valemen',\n",
       " 'Valyrian',\n",
       " 'Westerlands',\n",
       " 'Westerman',\n",
       " 'Westermen',\n",
       " 'Westeros',\n",
       " 'Wildling',\n",
       " 'Wildlings',\n",
       " 'free folk',\n",
       " 'ironborn',\n",
       " 'northmen',\n",
       " 'westermen'}"
      ]
     },
     "execution_count": 10,
     "metadata": {},
     "output_type": "execute_result"
    }
   ],
   "source": [
    "# Lots of different names for one culture so lets group them up\n",
    "set(df[\"culture\"])"
   ]
  },
  {
   "cell_type": "code",
   "execution_count": 11,
   "metadata": {},
   "outputs": [],
   "source": [
    "cult = {\n",
    "    'Summer Islands': ['summer islands', 'summer islander', 'summer isles'],\n",
    "    'Ghiscari': ['ghiscari', 'ghiscaricari',  'ghis'],\n",
    "    'Asshai': [\"asshai'i\", 'asshai'],\n",
    "    'Lysene': ['lysene', 'lyseni'],\n",
    "    'Andal': ['andal', 'andals'],\n",
    "    'Braavosi': ['braavosi', 'braavos'],\n",
    "    'Dornish': ['dornishmen', 'dorne', 'dornish'],\n",
    "    'Myrish': ['myr', 'myrish', 'myrmen'],\n",
    "    'Westermen': ['westermen', 'westerman', 'westerlands'],\n",
    "    'Westerosi': ['westeros', 'westerosi'],\n",
    "    'Stormlander': ['stormlands', 'stormlander'],\n",
    "    'Norvoshi': ['norvos', 'norvoshi'],\n",
    "    'Northmen': ['the north', 'northmen'],\n",
    "    'Free Folk': ['wildling', 'first men', 'free folk'],\n",
    "    'Qartheen': ['qartheen', 'qarth'],\n",
    "    'Reach': ['the reach', 'reach', 'reachmen'],\n",
    "    'Ironborn': ['ironborn', 'ironmen'],\n",
    "    'Mereen': ['meereen', 'meereenese'],\n",
    "    'RiverLands': ['riverlands', 'rivermen'],\n",
    "    'Vale': ['vale', 'valemen', 'vale mountain clans']\n",
    "}"
   ]
  },
  {
   "cell_type": "code",
   "execution_count": 12,
   "metadata": {},
   "outputs": [],
   "source": [
    "def get_cult(value):\n",
    "    value = value.lower()\n",
    "    v = [k for (k, v) in cult.items() if value in v]\n",
    "    return v[0] if len(v) > 0 else value.title()"
   ]
  },
  {
   "cell_type": "code",
   "execution_count": 13,
   "metadata": {},
   "outputs": [],
   "source": [
    "df.loc[:, \"culture\"] = [get_cult(x) for x in df[\"culture\"]]"
   ]
  },
  {
   "cell_type": "code",
   "execution_count": 14,
   "metadata": {},
   "outputs": [],
   "source": [
    "# Let's turn our strings features into one-hot encoded variables\n",
    "df = pd.get_dummies(df)"
   ]
  },
  {
   "cell_type": "code",
   "execution_count": 15,
   "metadata": {},
   "outputs": [],
   "source": [
    "# Separate our labels from our features\n",
    "y = df.iloc[:, 0].values\n",
    "x = df.iloc[:, 1:].values"
   ]
  },
  {
   "cell_type": "code",
   "execution_count": 16,
   "metadata": {},
   "outputs": [],
   "source": [
    "# Scale our data between 0 and 1\n",
    "scaler = MinMaxScaler()\n",
    "x = scaler.fit_transform(x)"
   ]
  },
  {
   "cell_type": "code",
   "execution_count": 17,
   "metadata": {},
   "outputs": [],
   "source": [
    "# Let's build many different models to train with our data\n",
    "\n",
    "kfold = KFold(n_splits=3, shuffle=True) # split data into 3 equal groups for validation\n",
    "mean=[]\n",
    "std=[]\n",
    "\n",
    "models = [LogisticRegression(solver='liblinear'), RandomForestClassifier(n_estimators=100), \n",
    "          DecisionTreeClassifier(), svm.SVC(kernel='linear', gamma='scale'), \n",
    "          svm.SVC(kernel='rbf', gamma='scale'), KNeighborsClassifier()]"
   ]
  },
  {
   "cell_type": "code",
   "execution_count": 18,
   "metadata": {},
   "outputs": [],
   "source": [
    "# Validate each model using K-fold cross validation\n",
    "for model in models:\n",
    "    result = cross_val_score(model, x, y, cv=kfold, scoring=\"accuracy\", n_jobs=4)\n",
    "    mean.append(result.mean())\n",
    "    std.append(result.std())"
   ]
  },
  {
   "cell_type": "code",
   "execution_count": 19,
   "metadata": {},
   "outputs": [
    {
     "data": {
      "text/html": [
       "<div>\n",
       "<style scoped>\n",
       "    .dataframe tbody tr th:only-of-type {\n",
       "        vertical-align: middle;\n",
       "    }\n",
       "\n",
       "    .dataframe tbody tr th {\n",
       "        vertical-align: top;\n",
       "    }\n",
       "\n",
       "    .dataframe thead th {\n",
       "        text-align: right;\n",
       "    }\n",
       "</style>\n",
       "<table border=\"1\" class=\"dataframe\">\n",
       "  <thead>\n",
       "    <tr style=\"text-align: right;\">\n",
       "      <th></th>\n",
       "      <th>Mean Acc</th>\n",
       "      <th>Std Acc</th>\n",
       "    </tr>\n",
       "  </thead>\n",
       "  <tbody>\n",
       "    <tr>\n",
       "      <th>Logistic Regression</th>\n",
       "      <td>0.776972</td>\n",
       "      <td>0.009587</td>\n",
       "    </tr>\n",
       "    <tr>\n",
       "      <th>Random Forest</th>\n",
       "      <td>0.787777</td>\n",
       "      <td>0.010408</td>\n",
       "    </tr>\n",
       "    <tr>\n",
       "      <th>Decision Tree</th>\n",
       "      <td>0.767201</td>\n",
       "      <td>0.018721</td>\n",
       "    </tr>\n",
       "    <tr>\n",
       "      <th>Linear SVM</th>\n",
       "      <td>0.761048</td>\n",
       "      <td>0.005035</td>\n",
       "    </tr>\n",
       "    <tr>\n",
       "      <th>Radial SVM</th>\n",
       "      <td>0.752320</td>\n",
       "      <td>0.010830</td>\n",
       "    </tr>\n",
       "    <tr>\n",
       "      <th>KNN</th>\n",
       "      <td>0.775952</td>\n",
       "      <td>0.014663</td>\n",
       "    </tr>\n",
       "  </tbody>\n",
       "</table>\n",
       "</div>"
      ],
      "text/plain": [
       "                     Mean Acc   Std Acc\n",
       "Logistic Regression  0.776972  0.009587\n",
       "Random Forest        0.787777  0.010408\n",
       "Decision Tree        0.767201  0.018721\n",
       "Linear SVM           0.761048  0.005035\n",
       "Radial SVM           0.752320  0.010830\n",
       "KNN                  0.775952  0.014663"
      ]
     },
     "execution_count": 19,
     "metadata": {},
     "output_type": "execute_result"
    }
   ],
   "source": [
    "classifiers=['Logistic Regression', 'Random Forest', 'Decision Tree', \n",
    "             'Linear SVM', 'Radial SVM', 'KNN']\n",
    "\n",
    "df2 = pd.DataFrame({'Mean Acc':mean,'Std Acc':std},index=classifiers) # maybe plot the mean and std ??\n",
    "df2"
   ]
  },
  {
   "cell_type": "code",
   "execution_count": 20,
   "metadata": {},
   "outputs": [
    {
     "name": "stdout",
     "output_type": "stream",
     "text": [
      "Fitting 3 folds for each of 50 candidates, totalling 150 fits\n"
     ]
    },
    {
     "name": "stderr",
     "output_type": "stream",
     "text": [
      "[Parallel(n_jobs=4)]: Using backend LokyBackend with 4 concurrent workers.\n",
      "[Parallel(n_jobs=4)]: Done  42 tasks      | elapsed:   31.9s\n",
      "[Parallel(n_jobs=4)]: Done 150 out of 150 | elapsed:  1.9min finished\n"
     ]
    },
    {
     "name": "stdout",
     "output_type": "stream",
     "text": [
      "0.78879753340185\n",
      "SVC(C=0.9, cache_size=200, class_weight=None, coef0=0.0,\n",
      "  decision_function_shape='ovr', degree=3, gamma=0.3, kernel='rbf',\n",
      "  max_iter=-1, probability=False, random_state=None, shrinking=True,\n",
      "  tol=0.001, verbose=False)\n"
     ]
    }
   ],
   "source": [
    "# Random Forest is our best classifier out of the box but perhaps with a little tuning the svms can do much better \n",
    "\n",
    "c = [0.1, 0.3, 0.5, 0.7, 0.9]\n",
    "gamma = [0.1, 0.3, 0.5, 0.7, 0.9]\n",
    "kernel = ['rbf','linear']\n",
    "\n",
    "hyper_parameters = {'kernel':kernel,'C':c,'gamma':gamma}\n",
    "\n",
    "gs = GridSearchCV(estimator=svm.SVC(),param_grid=hyper_parameters,verbose=True, cv=kfold, n_jobs=4)\n",
    "\n",
    "# Find the best hyperparameters using grid-search\n",
    "gs.fit(x,y)\n",
    "print(gs.best_score_)\n",
    "print(gs.best_estimator_)"
   ]
  },
  {
   "cell_type": "code",
   "execution_count": null,
   "metadata": {},
   "outputs": [],
   "source": []
  }
 ],
 "metadata": {
  "kernelspec": {
   "display_name": "Python 3",
   "language": "python",
   "name": "python3"
  },
  "language_info": {
   "codemirror_mode": {
    "name": "ipython",
    "version": 3
   },
   "file_extension": ".py",
   "mimetype": "text/x-python",
   "name": "python",
   "nbconvert_exporter": "python",
   "pygments_lexer": "ipython3",
   "version": "3.5.2"
  }
 },
 "nbformat": 4,
 "nbformat_minor": 2
}
